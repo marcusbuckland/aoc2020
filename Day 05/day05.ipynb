{
 "cells": [
  {
   "cell_type": "markdown",
   "metadata": {},
   "source": [
    "## Advent of Code 2021 - Day 05 ##\n",
    "____"
   ]
  },
  {
   "cell_type": "code",
   "execution_count": 1,
   "metadata": {},
   "outputs": [],
   "source": [
    "fh = open(\"data.txt\")\n",
    "contents = fh.read()\n",
    "boarding_passes = contents.splitlines()"
   ]
  },
  {
   "cell_type": "code",
   "execution_count": 2,
   "metadata": {},
   "outputs": [],
   "source": [
    "def get_row(r, seats):\n",
    "    # Base case\n",
    "    if not r: # Empty string\n",
    "        return seats[0]\n",
    "\n",
    "    # Recursive case\n",
    "    if r[0] == \"F\":\n",
    "        return get_row(r[1:], seats[:len(seats)//2])\n",
    "\n",
    "    if r[0] == \"B\":\n",
    "        return get_row(r[1:], seats[len(seats)//2:])\n"
   ]
  },
  {
   "cell_type": "code",
   "execution_count": 3,
   "metadata": {},
   "outputs": [],
   "source": [
    "def get_col(c, seats):\n",
    "    # Base case\n",
    "    if not c:\n",
    "        return seats[0]\n",
    "\n",
    "    # Recursive case\n",
    "    if c[0] == \"L\":\n",
    "        seats = seats[:len(seats)//2]\n",
    "        return get_col(c[1:], seats)\n",
    "\n",
    "    if c[0] == \"R\":\n",
    "        seats = seats[len(seats)//2:]\n",
    "        return get_col(c[1:], seats)"
   ]
  },
  {
   "cell_type": "code",
   "execution_count": 4,
   "metadata": {},
   "outputs": [],
   "source": [
    "def get_seat_id(r, c):\n",
    "    return r * 8 + c"
   ]
  },
  {
   "cell_type": "code",
   "execution_count": 5,
   "metadata": {},
   "outputs": [
    {
     "name": "stdout",
     "output_type": "stream",
     "text": [
      "Maximum seat ID: 864\n"
     ]
    }
   ],
   "source": [
    "# Part 1\n",
    "max_id = -1\n",
    "\n",
    "for s in boarding_passes:\n",
    "    r = get_row(s[:7], [x for x in range(128)])\n",
    "    c = get_col(s[-3:], [x for x in range(8)])\n",
    "    seat_id = get_seat_id(r, c)\n",
    "\n",
    "    if seat_id > max_id:\n",
    "        max_id = seat_id  \n",
    "\n",
    "print(f\"Maximum seat ID: {max_id}\")"
   ]
  },
  {
   "cell_type": "code",
   "execution_count": 6,
   "metadata": {},
   "outputs": [
    {
     "data": {
      "text/plain": [
       "{739}"
      ]
     },
     "execution_count": 6,
     "metadata": {},
     "output_type": "execute_result"
    }
   ],
   "source": [
    "# Part 2\n",
    "ids = set()\n",
    "\n",
    "for s in boarding_passes:\n",
    "    r = get_row(s[:7], [x for x in range(128)])\n",
    "    c = get_col(s[-3:], [x for x in range(8)])\n",
    "    seat_id = get_seat_id(r, c)\n",
    "    ids.add(seat_id)\n",
    "\n",
    "all_seats = {x for x in range(min(ids), max(ids)+1)}\n",
    "all_seats.difference(ids)"
   ]
  }
 ],
 "metadata": {
  "kernelspec": {
   "display_name": "Python 3.9.7 ('base')",
   "language": "python",
   "name": "python3"
  },
  "language_info": {
   "codemirror_mode": {
    "name": "ipython",
    "version": 3
   },
   "file_extension": ".py",
   "mimetype": "text/x-python",
   "name": "python",
   "nbconvert_exporter": "python",
   "pygments_lexer": "ipython3",
   "version": "3.9.7"
  },
  "orig_nbformat": 4,
  "vscode": {
   "interpreter": {
    "hash": "2015bda94f99312324182a6da2c0335845869d8cccbe791e6d71b6a750717475"
   }
  }
 },
 "nbformat": 4,
 "nbformat_minor": 2
}
