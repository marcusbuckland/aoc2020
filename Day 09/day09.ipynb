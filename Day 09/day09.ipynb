{
 "cells": [
  {
   "cell_type": "markdown",
   "metadata": {},
   "source": [
    "## Advent of Code 2020 - Day 09 ##\n",
    "____"
   ]
  },
  {
   "cell_type": "code",
   "execution_count": 1,
   "metadata": {},
   "outputs": [],
   "source": [
    "from itertools import combinations\n",
    "fh = open(\"example.txt\")\n",
    "contents = fh.read()\n",
    "numbers = contents.splitlines()"
   ]
  },
  {
   "cell_type": "code",
   "execution_count": 2,
   "metadata": {},
   "outputs": [],
   "source": [
    "numbers = [int(x) for x in numbers]"
   ]
  },
  {
   "cell_type": "code",
   "execution_count": 7,
   "metadata": {},
   "outputs": [],
   "source": [
    "preamble = 5\n",
    "\n",
    "for i, num in enumerate(numbers[preamble:]):\n",
    "    found = False\n",
    "    sum_nums = numbers[i:i+preamble]\n",
    "    combins = list(combinations(sum_nums, 2))\n",
    "\n",
    "    for combin in combins:\n",
    "        if  sum(combin) == num:\n",
    "            found = True\n",
    "\n",
    "    if not found : break\n",
    "\n",
    "invalid_num = num"
   ]
  },
  {
   "cell_type": "code",
   "execution_count": 8,
   "metadata": {},
   "outputs": [
    {
     "data": {
      "text/plain": [
       "127"
      ]
     },
     "execution_count": 8,
     "metadata": {},
     "output_type": "execute_result"
    }
   ],
   "source": [
    "invalid_num"
   ]
  },
  {
   "cell_type": "code",
   "execution_count": 10,
   "metadata": {},
   "outputs": [
    {
     "name": "stdout",
     "output_type": "stream",
     "text": [
      "62\n",
      "[15, 25, 47, 40]\n"
     ]
    }
   ],
   "source": [
    "## Part Two\n",
    "found = False\n",
    "\n",
    "for ix in range(len(numbers)):\n",
    "    l = list()\n",
    "    for i, num in enumerate(numbers[ix:]):\n",
    "        l.append(num)\n",
    "\n",
    "        if sum(l) == invalid_num:\n",
    "            print(min(l) + max(l))\n",
    "            print(l)\n",
    "            found = True\n",
    "\n",
    "        if sum(l) > invalid_num : break\n",
    "            \n",
    "    if found : break"
   ]
  }
 ],
 "metadata": {
  "kernelspec": {
   "display_name": "Python 3.9.7 ('base')",
   "language": "python",
   "name": "python3"
  },
  "language_info": {
   "codemirror_mode": {
    "name": "ipython",
    "version": 3
   },
   "file_extension": ".py",
   "mimetype": "text/x-python",
   "name": "python",
   "nbconvert_exporter": "python",
   "pygments_lexer": "ipython3",
   "version": "3.9.7"
  },
  "orig_nbformat": 4,
  "vscode": {
   "interpreter": {
    "hash": "2015bda94f99312324182a6da2c0335845869d8cccbe791e6d71b6a750717475"
   }
  }
 },
 "nbformat": 4,
 "nbformat_minor": 2
}
