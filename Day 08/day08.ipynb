{
 "cells": [
  {
   "cell_type": "markdown",
   "metadata": {},
   "source": [
    "## Advent of Code 2020 - Day 08 ##\n",
    "____"
   ]
  },
  {
   "cell_type": "code",
   "execution_count": 1,
   "metadata": {},
   "outputs": [],
   "source": [
    "fh = open(\"data.txt\")\n",
    "contents = fh.read()\n",
    "contents = contents.splitlines()"
   ]
  },
  {
   "cell_type": "code",
   "execution_count": 2,
   "metadata": {},
   "outputs": [],
   "source": [
    "instructions = []\n",
    "\n",
    "for line in contents:\n",
    "    opp, arg = line.split()\n",
    "    instructions.append((opp, int(arg)))"
   ]
  },
  {
   "cell_type": "code",
   "execution_count": 3,
   "metadata": {},
   "outputs": [
    {
     "name": "stdout",
     "output_type": "stream",
     "text": [
      "Instruction at index 346 is being executed for the 2nd time!!\n"
     ]
    }
   ],
   "source": [
    "# Part 1\n",
    "\n",
    "executed = set() # Keep a track of the instructions which have been executed\n",
    "accumulator = 0\n",
    "ix = 0\n",
    "\n",
    "while True:\n",
    "    if ix in executed:\n",
    "        print(f\"Instruction at index {ix} is being executed for the 2nd time!!\")\n",
    "        break\n",
    "\n",
    "    executed.add(ix)\n",
    "    operation, argument = instructions[ix]\n",
    "\n",
    "    if operation == 'nop': \n",
    "        ix +=1\n",
    "        continue\n",
    "\n",
    "    if operation == 'acc':\n",
    "        ix += 1\n",
    "        accumulator += argument\n",
    "        continue\n",
    "\n",
    "    # Operation must be jmp\n",
    "    ix += argument\n",
    "\n"
   ]
  },
  {
   "cell_type": "code",
   "execution_count": 4,
   "metadata": {},
   "outputs": [],
   "source": [
    "# Part 2\n",
    "def do_trial(n):\n",
    "    executed = set() # Keep a track of the instructions which have been executed\n",
    "    accumulator = 0\n",
    "    ix = 0\n",
    "\n",
    "    while True:\n",
    "        if ix == len(instructions):\n",
    "            print(f\"The program has terminated correctly!\")\n",
    "            print(f\"The value of the accumulator is: {accumulator}\")\n",
    "            return True\n",
    "\n",
    "        if ix in executed:\n",
    "            break\n",
    "\n",
    "        executed.add(ix)\n",
    "        operation, argument = instructions[ix]\n",
    "\n",
    "        # Change the operation.\n",
    "        if ix == n:\n",
    "            if operation == \"jmp\":\n",
    "                operation = \"nop\"\n",
    "            elif operation == \"nop\":\n",
    "                operation = \"jmp\"\n",
    "\n",
    "        if operation == 'nop': \n",
    "            ix +=1\n",
    "            continue\n",
    "\n",
    "        if operation == 'acc':\n",
    "            ix += 1\n",
    "            accumulator += argument\n",
    "            continue\n",
    "\n",
    "        # Operation must be jmp\n",
    "        ix += argument\n",
    "\n",
    "    return False"
   ]
  },
  {
   "cell_type": "code",
   "execution_count": 5,
   "metadata": {},
   "outputs": [],
   "source": [
    "change_ix = [i for i, x in enumerate(instructions) if x[0] != \"acc\"]"
   ]
  },
  {
   "cell_type": "code",
   "execution_count": 6,
   "metadata": {},
   "outputs": [
    {
     "name": "stdout",
     "output_type": "stream",
     "text": [
      "The program has terminated correctly!\n",
      "The value of the accumulator is: 2092\n"
     ]
    }
   ],
   "source": [
    "for n in change_ix:\n",
    "    res = do_trial(n)\n",
    "    if res:\n",
    "        break"
   ]
  },
  {
   "cell_type": "code",
   "execution_count": null,
   "metadata": {},
   "outputs": [],
   "source": []
  }
 ],
 "metadata": {
  "kernelspec": {
   "display_name": "Python 3.9.7 ('base')",
   "language": "python",
   "name": "python3"
  },
  "language_info": {
   "codemirror_mode": {
    "name": "ipython",
    "version": 3
   },
   "file_extension": ".py",
   "mimetype": "text/x-python",
   "name": "python",
   "nbconvert_exporter": "python",
   "pygments_lexer": "ipython3",
   "version": "3.9.7"
  },
  "orig_nbformat": 4,
  "vscode": {
   "interpreter": {
    "hash": "2015bda94f99312324182a6da2c0335845869d8cccbe791e6d71b6a750717475"
   }
  }
 },
 "nbformat": 4,
 "nbformat_minor": 2
}
