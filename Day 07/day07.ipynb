{
 "cells": [
  {
   "cell_type": "markdown",
   "metadata": {},
   "source": [
    "## Advent of Code 2020 - Day 07 ##\n",
    "____"
   ]
  },
  {
   "cell_type": "code",
   "execution_count": 1,
   "metadata": {},
   "outputs": [],
   "source": [
    "import re\n",
    "fh = open(\"data.txt\")\n",
    "contents = fh.read()\n",
    "contents = contents.splitlines()"
   ]
  },
  {
   "cell_type": "code",
   "execution_count": 2,
   "metadata": {},
   "outputs": [],
   "source": [
    "bags = {}\n",
    "\n",
    "for line in contents:\n",
    "    bag, neighbours = line.split(\"contain\")\n",
    "    bag = bag[:-6].rstrip() # remove \" bags\"\n",
    "    bags[bag] = []\n",
    "    if \",\" in neighbours:\n",
    "        neighbours = neighbours.split(\",\")\n",
    "        for n in neighbours:\n",
    "            ix = n.find(\" bag\")\n",
    "            n = n[:ix].strip()\n",
    "            m = re.match(\"([0-9]+) (.*)\",n)\n",
    "            q, b = m.groups()\n",
    "            bags[bag].append((q,b.rstrip()))\n",
    "    elif neighbours == \" no other bags.\":\n",
    "        continue\n",
    "    else :\n",
    "        m = re.match(\"([0-9]+) (.*)\", neighbours.lstrip())\n",
    "        q, b = m.groups()\n",
    "        b = b[:-5]\n",
    "        bags[bag].append((q, b.rstrip()))"
   ]
  },
  {
   "cell_type": "code",
   "execution_count": 3,
   "metadata": {},
   "outputs": [],
   "source": [
    "def visit(bag, visited):\n",
    "    visited.add(bag)\n",
    "\n",
    "    neighbours = bags[bag]\n",
    "    for _, n in neighbours:\n",
    "        if n not in visited:\n",
    "            visit(n, visited)\n",
    "    \n",
    "    return visited"
   ]
  },
  {
   "cell_type": "code",
   "execution_count": 5,
   "metadata": {},
   "outputs": [],
   "source": [
    "outer_bags = set()\n",
    "for b in bags.keys():\n",
    "    visited = visit(b, set())\n",
    "    if \"shiny gold\" in visited:\n",
    "        outer_bags.add(b)"
   ]
  },
  {
   "cell_type": "code",
   "execution_count": 6,
   "metadata": {},
   "outputs": [
    {
     "data": {
      "text/plain": [
       "True"
      ]
     },
     "execution_count": 6,
     "metadata": {},
     "output_type": "execute_result"
    }
   ],
   "source": [
    "\"shiny gold\" in outer_bags"
   ]
  },
  {
   "cell_type": "code",
   "execution_count": 8,
   "metadata": {},
   "outputs": [
    {
     "name": "stdout",
     "output_type": "stream",
     "text": [
      "Part 1 answer: 300\n"
     ]
    }
   ],
   "source": [
    "ans = len(outer_bags) - 1\n",
    "print(f\"Part 1 answer: {ans}\")"
   ]
  },
  {
   "cell_type": "code",
   "execution_count": null,
   "metadata": {},
   "outputs": [],
   "source": []
  },
  {
   "cell_type": "code",
   "execution_count": null,
   "metadata": {},
   "outputs": [],
   "source": []
  },
  {
   "cell_type": "code",
   "execution_count": null,
   "metadata": {},
   "outputs": [],
   "source": []
  },
  {
   "cell_type": "code",
   "execution_count": null,
   "metadata": {},
   "outputs": [],
   "source": []
  },
  {
   "cell_type": "code",
   "execution_count": null,
   "metadata": {},
   "outputs": [],
   "source": []
  },
  {
   "cell_type": "code",
   "execution_count": null,
   "metadata": {},
   "outputs": [],
   "source": []
  }
 ],
 "metadata": {
  "kernelspec": {
   "display_name": "Python 3.9.7 ('base')",
   "language": "python",
   "name": "python3"
  },
  "language_info": {
   "codemirror_mode": {
    "name": "ipython",
    "version": 3
   },
   "file_extension": ".py",
   "mimetype": "text/x-python",
   "name": "python",
   "nbconvert_exporter": "python",
   "pygments_lexer": "ipython3",
   "version": "3.9.7"
  },
  "orig_nbformat": 4,
  "vscode": {
   "interpreter": {
    "hash": "2015bda94f99312324182a6da2c0335845869d8cccbe791e6d71b6a750717475"
   }
  }
 },
 "nbformat": 4,
 "nbformat_minor": 2
}
