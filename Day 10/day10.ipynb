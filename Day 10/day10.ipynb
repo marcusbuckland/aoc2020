{
 "cells": [
  {
   "cell_type": "markdown",
   "metadata": {},
   "source": [
    "## Advent of Code 2020 - Day 10 ##\n",
    "____"
   ]
  },
  {
   "cell_type": "markdown",
   "metadata": {},
   "source": [
    "#### Part 1"
   ]
  },
  {
   "cell_type": "code",
   "execution_count": 1,
   "metadata": {},
   "outputs": [],
   "source": [
    "fh = open(\"data.txt\")\n",
    "contents = fh.read()\n",
    "numbers = [int(x) for x in contents.splitlines()]\n",
    "numbers.sort()"
   ]
  },
  {
   "cell_type": "code",
   "execution_count": 2,
   "metadata": {},
   "outputs": [],
   "source": [
    "differences = dict()\n",
    "differences[numbers[0]] = 1 # Acccount for charging outlet.\n",
    "\n",
    "for i, num in enumerate(numbers[1:]):\n",
    "    diff = num - numbers[i]\n",
    "    differences[diff] = differences.get(diff, 0) + 1\n",
    "\n",
    "differences[3] += 1 # Account for device's built in adapter."
   ]
  },
  {
   "cell_type": "code",
   "execution_count": 3,
   "metadata": {},
   "outputs": [
    {
     "name": "stdout",
     "output_type": "stream",
     "text": [
      "Part One answer: 2176\n"
     ]
    }
   ],
   "source": [
    "ans = differences.get(3) * differences.get(1)\n",
    "print(f\"Part One answer: {ans}\")"
   ]
  },
  {
   "cell_type": "markdown",
   "metadata": {},
   "source": [
    "#### Part 2"
   ]
  },
  {
   "cell_type": "code",
   "execution_count": 4,
   "metadata": {},
   "outputs": [],
   "source": [
    "from collections import defaultdict\n",
    "counts = defaultdict(int, {0: 1})\n",
    "\n",
    "numbers = [0] + numbers + [numbers[-1]+3]\n",
    "for a, b in zip(numbers[1:], numbers):\n",
    "    counts[a] = counts[a - 3] + counts[a - 2] + counts[a - 1]"
   ]
  },
  {
   "cell_type": "code",
   "execution_count": 5,
   "metadata": {},
   "outputs": [
    {
     "name": "stdout",
     "output_type": "stream",
     "text": [
      "Part Two answer: 18512297918464\n"
     ]
    }
   ],
   "source": [
    "# paths[n] is the total paths from 0 to n\n",
    "paths = defaultdict(int)\n",
    "paths[0] = 1\n",
    "\n",
    "for adapter in numbers:\n",
    "    for diff in range(1, 4):\n",
    "        next_adapter = adapter + diff\n",
    "        if next_adapter in numbers:\n",
    "            paths[next_adapter] += paths[adapter]\n",
    "\n",
    "ans = paths[numbers[-1]]\n",
    "print(f\"Part Two answer: {ans}\")"
   ]
  }
 ],
 "metadata": {
  "kernelspec": {
   "display_name": "Python 3.9.7 ('base')",
   "language": "python",
   "name": "python3"
  },
  "language_info": {
   "codemirror_mode": {
    "name": "ipython",
    "version": 3
   },
   "file_extension": ".py",
   "mimetype": "text/x-python",
   "name": "python",
   "nbconvert_exporter": "python",
   "pygments_lexer": "ipython3",
   "version": "3.11.5"
  },
  "orig_nbformat": 4,
  "vscode": {
   "interpreter": {
    "hash": "2015bda94f99312324182a6da2c0335845869d8cccbe791e6d71b6a750717475"
   }
  }
 },
 "nbformat": 4,
 "nbformat_minor": 2
}
