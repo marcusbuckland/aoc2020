{
 "cells": [
  {
   "cell_type": "markdown",
   "metadata": {},
   "source": [
    "## Advent of Code 2021 - Day 02 ##\n",
    "____"
   ]
  },
  {
   "cell_type": "code",
   "execution_count": 1,
   "metadata": {},
   "outputs": [],
   "source": [
    "fh = open(\"data.txt\", 'r')\n",
    "contents = fh.read().splitlines()\n",
    "contents = [x.split() for x in contents]"
   ]
  },
  {
   "cell_type": "code",
   "execution_count": 2,
   "metadata": {},
   "outputs": [
    {
     "name": "stdout",
     "output_type": "stream",
     "text": [
      "Number of valid passwords is: 460\n"
     ]
    }
   ],
   "source": [
    "# Part 1\n",
    "valid_count = 0\n",
    "for pwd in contents:\n",
    "    minimum, maximum = pwd[0].split(\"-\")\n",
    "    minimum, maximum = int(minimum), int(maximum)\n",
    "    letter = pwd[1].strip(\":\")\n",
    "    password = pwd[2]\n",
    "\n",
    "    letter_count = password.count(letter)\n",
    "    \n",
    "    if minimum <= letter_count <= maximum:\n",
    "        valid_count += 1\n",
    "\n",
    "print(f\"Number of valid passwords is: {valid_count}\")"
   ]
  },
  {
   "cell_type": "code",
   "execution_count": 3,
   "metadata": {},
   "outputs": [
    {
     "name": "stdout",
     "output_type": "stream",
     "text": [
      "Number of valid passwords is: 251\n"
     ]
    }
   ],
   "source": [
    "# Part 2\n",
    "valid_count = 0\n",
    "\n",
    "for pwd in contents:\n",
    "    ix1, ix2 = pwd[0].split(\"-\")\n",
    "    ix1, ix2 = int(ix1)-1, int(ix2)-1\n",
    "    letter = pwd[1].strip(\":\")\n",
    "    password = pwd[2]\n",
    "    \n",
    "    s = int(password[ix1] == letter)\n",
    "    s2 = int(password[ix2] == letter)\n",
    "    if s + s2 == 1 : \n",
    "        valid_count+=1\n",
    "\n",
    "print(f\"Number of valid passwords is: {valid_count}\")"
   ]
  },
  {
   "cell_type": "code",
   "execution_count": null,
   "metadata": {},
   "outputs": [],
   "source": []
  }
 ],
 "metadata": {
  "kernelspec": {
   "display_name": "Python 3.9.7 ('base')",
   "language": "python",
   "name": "python3"
  },
  "language_info": {
   "codemirror_mode": {
    "name": "ipython",
    "version": 3
   },
   "file_extension": ".py",
   "mimetype": "text/x-python",
   "name": "python",
   "nbconvert_exporter": "python",
   "pygments_lexer": "ipython3",
   "version": "3.9.7"
  },
  "orig_nbformat": 4,
  "vscode": {
   "interpreter": {
    "hash": "2015bda94f99312324182a6da2c0335845869d8cccbe791e6d71b6a750717475"
   }
  }
 },
 "nbformat": 4,
 "nbformat_minor": 2
}
