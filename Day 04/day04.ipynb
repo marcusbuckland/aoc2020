{
 "cells": [
  {
   "cell_type": "markdown",
   "metadata": {},
   "source": [
    "## Advent of Code 2021 - Day 04 ##\n",
    "____"
   ]
  },
  {
   "cell_type": "code",
   "execution_count": 1,
   "metadata": {},
   "outputs": [],
   "source": [
    "import re\n",
    "fh = open(\"data.txt\", 'r')\n",
    "contents = fh.read()\n",
    "passports = contents.splitlines()\n",
    "passports = contents.split(\"\\n\\n\")"
   ]
  },
  {
   "cell_type": "code",
   "execution_count": 2,
   "metadata": {},
   "outputs": [],
   "source": [
    "def is_valid(p):\n",
    "    if \"byr:\" not in p : return False\n",
    "    if \"iyr:\" not in p : return False\n",
    "    if \"eyr:\" not in p : return False\n",
    "    if \"hgt:\" not in p : return False\n",
    "    if \"hcl:\" not in p : return False\n",
    "    if \"ecl:\" not in p : return False\n",
    "    if \"pid:\" not in p : return False\n",
    "    return True"
   ]
  },
  {
   "cell_type": "code",
   "execution_count": 3,
   "metadata": {},
   "outputs": [
    {
     "name": "stdout",
     "output_type": "stream",
     "text": [
      "Valid passports: 237\n"
     ]
    }
   ],
   "source": [
    "# Part 1\n",
    "valid_count = 0\n",
    "for p in passports:\n",
    "    if is_valid(p) : valid_count += 1\n",
    "\n",
    "print(f\"Valid passports: {valid_count}\")"
   ]
  },
  {
   "cell_type": "code",
   "execution_count": 4,
   "metadata": {},
   "outputs": [],
   "source": [
    "passports = list(map(str.split, passports))\n",
    "FEATURES = [\"byr\", \"iyr\", \"eyr\", \"hgt\", \"hcl\", \"ecl\", \"pid\"]\n",
    "VALID_ECL = {'amb', 'blu', 'brn', 'gry', 'grn', 'hzl', 'oth'}"
   ]
  },
  {
   "cell_type": "code",
   "execution_count": 5,
   "metadata": {},
   "outputs": [],
   "source": [
    "def is_valid(p):\n",
    "    \"\"\"\n",
    "    Returns True if the passport is valid.\n",
    "    p is a list of the items on the passports, in the format of key:value pairs\n",
    "    e.g. [ecl:hzl, byr:1926, ...] etc.\n",
    "    \"\"\"\n",
    "    # If 6 or less items in the passport, it must be invalid.\n",
    "    if len(p) < 7: return False\n",
    "    \n",
    "    # Initialise dictionary to keep track of if features are valid or invalid.\n",
    "    valid_dict = {k:False for k in FEATURES}\n",
    "    \n",
    "    # For each credential in the passport, check if it is valid.\n",
    "    for field in p:\n",
    "        feature, value = field.split(\":\")\n",
    "        valid_dict[feature] = check_feature(feature, value)\n",
    "    \n",
    "    return all(valid_dict.values())"
   ]
  },
  {
   "cell_type": "code",
   "execution_count": 6,
   "metadata": {},
   "outputs": [],
   "source": [
    "def check_feature(f, v):\n",
    "    \"\"\"Returns True if the passport feature is valid.\"\"\"\n",
    "    if f == \"byr\" : return check_byr(v)\n",
    "    if f == \"iyr\" : return check_iyr(v)\n",
    "    if f == \"eyr\" : return check_eyr(v)\n",
    "    if f == \"hgt\" : return check_hgt(v)\n",
    "    if f == \"hcl\" : return check_hcl(v)\n",
    "    if f == \"ecl\" : return check_ecl(v)\n",
    "    if f == \"pid\" : return check_pid(v)\n",
    "    if f == \"cid\" : return True\n",
    "\n",
    "def check_byr(byr):\n",
    "    return 1920 <= int(byr) <= 2002\n",
    "\n",
    "def check_iyr(iyr):\n",
    "    return 2010 <= int(iyr) <= 2020\n",
    "\n",
    "def check_eyr(eyr):\n",
    "    return 2020 <= int(eyr) <= 2030\n",
    "\n",
    "def check_hgt(hgt):\n",
    "    if hgt.endswith(\"cm\"):\n",
    "        return 150 <= int(hgt.strip(\"cm\")) <= 193\n",
    "    \n",
    "    if hgt.endswith(\"in\"):\n",
    "        return 59 <= int(hgt.strip(\"in\")) <= 76\n",
    "\n",
    "def check_hcl(hcl):\n",
    "    return bool(re.search(\"#[a-z0-9]{6}\", hcl))\n",
    "\n",
    "def check_ecl(ecl):\n",
    "    return ecl in VALID_ECL\n",
    "\n",
    "def check_pid(pid):\n",
    "    return pid.isdigit() and len(pid) == 9"
   ]
  },
  {
   "cell_type": "code",
   "execution_count": 7,
   "metadata": {},
   "outputs": [
    {
     "name": "stdout",
     "output_type": "stream",
     "text": [
      "Valid passports: 172\n"
     ]
    }
   ],
   "source": [
    "# Part 2\n",
    "valid_count = 0\n",
    "for p in passports:\n",
    "    if is_valid(p) : valid_count += 1\n",
    "\n",
    "print(f\"Valid passports: {valid_count}\")"
   ]
  },
  {
   "cell_type": "code",
   "execution_count": null,
   "metadata": {},
   "outputs": [],
   "source": []
  }
 ],
 "metadata": {
  "kernelspec": {
   "display_name": "Python 3.9.7 ('base')",
   "language": "python",
   "name": "python3"
  },
  "language_info": {
   "codemirror_mode": {
    "name": "ipython",
    "version": 3
   },
   "file_extension": ".py",
   "mimetype": "text/x-python",
   "name": "python",
   "nbconvert_exporter": "python",
   "pygments_lexer": "ipython3",
   "version": "3.9.7"
  },
  "orig_nbformat": 4,
  "vscode": {
   "interpreter": {
    "hash": "2015bda94f99312324182a6da2c0335845869d8cccbe791e6d71b6a750717475"
   }
  }
 },
 "nbformat": 4,
 "nbformat_minor": 2
}
