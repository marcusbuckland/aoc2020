{
 "cells": [
  {
   "cell_type": "markdown",
   "metadata": {},
   "source": [
    "## Advent of Code 2021 - Day 04 ##\n",
    "____"
   ]
  },
  {
   "cell_type": "code",
   "execution_count": 1,
   "metadata": {},
   "outputs": [],
   "source": [
    "fh = open(\"data.txt\", 'r')\n",
    "contents = fh.read()\n",
    "passports = contents.splitlines()\n",
    "passports = contents.split(\"\\n\\n\")\n",
    "passports = list(map(str.split, passports))\n",
    "FEATURES = [\"byr\", \"iyr\", \"eyr\", \"hgt\", \"hcl\", \"ecl\", \"pid\"]"
   ]
  },
  {
   "cell_type": "code",
   "execution_count": 2,
   "metadata": {},
   "outputs": [],
   "source": [
    "p = passports[0]"
   ]
  },
  {
   "cell_type": "code",
   "execution_count": null,
   "metadata": {},
   "outputs": [],
   "source": [
    "def is_valid(p):\n",
    "    \"\"\"\n",
    "    Returns True if the passport (p) is valid.\n",
    "    p is a list of the items on the passports, in the format of key:value pairs\n",
    "    e.g. [ecl:hzl, byr:1926, ...]\n",
    "    \"\"\"\n",
    "    # If 6 or less items in the passport, it must be invalid.\n",
    "    if len(p) < 7: return False\n",
    "    \n",
    "    # Initialise dictionary to keep track of if features are valid or invalid.\n",
    "    valid_dict = {k:False for k in FEATURES}\n",
    "    \n",
    "    # For each credential in the passport, check if it is valid.\n",
    "    for field in p:\n",
    "        feature, value = field.split(\":\")\n",
    "        valid_dict[feature] = check_feature(feature, value)\n",
    "    \n",
    "    if all(valid_dict.values()) : \n",
    "        return True\n",
    "    else :\n",
    "        return False"
   ]
  },
  {
   "cell_type": "code",
   "execution_count": null,
   "metadata": {},
   "outputs": [],
   "source": [
    "def check_feature(f, v):\n",
    "    \"\"\"Returns True if the passport feature is valid.\"\"\"\n",
    "    if f == \"byr\" : return check_byr(v)\n",
    "    if f == \"iyr\" : return check_iyr(v)\n",
    "    if f == \"eyr\" : return check_eyr(v)\n",
    "    if f == \"hgt\" : return check_hgt(v)\n",
    "    if f == \"hcl\" : return check_hcl(v)\n",
    "    if f == \"ecl\" : return check_ecl(v)\n",
    "    if f == \"pid\" : return check_pid(v)\n",
    "\n",
    "def check_byr(v):\n",
    "    numeric_byr = int(v)\n",
    "    return 1920 <= numeric_byr <= 2002\n",
    "\n",
    "def check_iyr(v):\n",
    "    numeric_iyr = int(v)\n",
    "    return 2010 <= numeric_iyr <= 2020\n",
    "\n",
    "def check_eyr(v):\n",
    "    numeric_eyr = int(v)\n",
    "    return 2020 <= numeric_eyr <= 2030\n",
    "\n",
    "def check_hgt(v):\n",
    "    pass\n",
    "\n",
    "def check_hcl(v):\n",
    "    pass\n",
    "\n",
    "def check_ecl(v):\n",
    "    pass\n",
    "\n",
    "def check_pid(v):\n",
    "    pass\n",
    "\n"
   ]
  },
  {
   "cell_type": "code",
   "execution_count": null,
   "metadata": {},
   "outputs": [],
   "source": []
  },
  {
   "cell_type": "code",
   "execution_count": null,
   "metadata": {},
   "outputs": [],
   "source": [
    "for p in passports[:2]:\n",
    "    for item in p:\n",
    "        k, v = item.split(\":\")\n",
    "        print(k, v)"
   ]
  },
  {
   "cell_type": "code",
   "execution_count": null,
   "metadata": {},
   "outputs": [],
   "source": [
    "def is_valid(p):\n",
    "    if \"byr:\" not in p : return False\n",
    "    if \"iyr:\" not in p : return False\n",
    "    if \"eyr:\" not in p : return False\n",
    "    if \"hgt:\" not in p : return False\n",
    "    if \"hcl:\" not in p : return False\n",
    "    if \"ecl:\" not in p : return False\n",
    "    if \"pid:\" not in p : return False\n",
    "    # if \"cid:\" not in p : return False\n",
    "    return True"
   ]
  },
  {
   "cell_type": "code",
   "execution_count": null,
   "metadata": {},
   "outputs": [],
   "source": [
    "valid_count = 0\n",
    "\n",
    "for p in passports:\n",
    "    if is_valid(p):\n",
    "        valid_count += 1\n",
    "valid_count"
   ]
  },
  {
   "cell_type": "code",
   "execution_count": null,
   "metadata": {},
   "outputs": [],
   "source": []
  },
  {
   "cell_type": "code",
   "execution_count": null,
   "metadata": {},
   "outputs": [],
   "source": [
    "# 244 is incorrect (too high)"
   ]
  }
 ],
 "metadata": {
  "kernelspec": {
   "display_name": "Python 3.9.7 ('base')",
   "language": "python",
   "name": "python3"
  },
  "language_info": {
   "codemirror_mode": {
    "name": "ipython",
    "version": 3
   },
   "file_extension": ".py",
   "mimetype": "text/x-python",
   "name": "python",
   "nbconvert_exporter": "python",
   "pygments_lexer": "ipython3",
   "version": "3.9.7"
  },
  "orig_nbformat": 4,
  "vscode": {
   "interpreter": {
    "hash": "2015bda94f99312324182a6da2c0335845869d8cccbe791e6d71b6a750717475"
   }
  }
 },
 "nbformat": 4,
 "nbformat_minor": 2
}
