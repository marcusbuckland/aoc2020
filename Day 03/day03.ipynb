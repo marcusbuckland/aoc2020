{
 "cells": [
  {
   "cell_type": "markdown",
   "metadata": {},
   "source": [
    "## Advent of Code 2021 - Day 03 ##\n",
    "____"
   ]
  },
  {
   "cell_type": "code",
   "execution_count": 1,
   "metadata": {},
   "outputs": [],
   "source": [
    "fh = open(\"data.txt\", 'r')\n",
    "contents = fh.read().splitlines()"
   ]
  },
  {
   "cell_type": "code",
   "execution_count": 10,
   "metadata": {},
   "outputs": [],
   "source": [
    "## Part One ##\n",
    "ix = -3\n",
    "tree_count = 0\n",
    "for line in contents:\n",
    "    ix = ix + 3\n",
    "    if ix > 30 :\n",
    "        ix = ix - 31\n",
    "    landed = line[ix]\n",
    "    if landed == \"#\":\n",
    "        tree_count += 1"
   ]
  },
  {
   "cell_type": "code",
   "execution_count": 11,
   "metadata": {},
   "outputs": [
    {
     "data": {
      "text/plain": [
       "214"
      ]
     },
     "execution_count": 11,
     "metadata": {},
     "output_type": "execute_result"
    }
   ],
   "source": [
    "tree_count # 214"
   ]
  },
  {
   "cell_type": "code",
   "execution_count": 12,
   "metadata": {},
   "outputs": [],
   "source": [
    "## Part Two ##\n",
    "tree_counts = [0, 0, 0, 0, 0]\n",
    "\n",
    "ix1 = -1\n",
    "ix2 = -3\n",
    "ix3 = -5\n",
    "ix4 = -7\n",
    "ix5 = -1\n",
    "\n",
    "for i, line in enumerate(contents):\n",
    "    ix1 += 1\n",
    "    if ix1 > 30 :\n",
    "        ix1 -= 31\n",
    "   \n",
    "    ix2 += 3\n",
    "    if ix2 > 30:\n",
    "        ix2 -= 31\n",
    "    \n",
    "    ix3 += 5\n",
    "    if ix3 > 30:\n",
    "        ix3 -= 31\n",
    "\n",
    "    ix4 += 7\n",
    "    if ix4 > 30:\n",
    "        ix4 -= 31\n",
    "\n",
    "    if i % 2 == 0:\n",
    "        ix5 += 1\n",
    "        if ix5 > 30:\n",
    "            ix5 -= 31\n",
    "        if line[ix5] == \"#\":\n",
    "            tree_counts[4] += 1\n",
    "    \n",
    "    if line[ix1] == \"#\":\n",
    "        tree_counts[0] += 1\n",
    "\n",
    "    if line[ix2] == \"#\":\n",
    "        tree_counts[1] += 1\n",
    "    if line[ix3] == \"#\":\n",
    "        tree_counts[2] += 1\n",
    "    if line[ix4] == \"#\":\n",
    "        tree_counts[3] += 1"
   ]
  },
  {
   "cell_type": "code",
   "execution_count": 13,
   "metadata": {},
   "outputs": [
    {
     "data": {
      "text/plain": [
       "[94, 214, 99, 91, 46]"
      ]
     },
     "execution_count": 13,
     "metadata": {},
     "output_type": "execute_result"
    }
   ],
   "source": [
    "tree_counts"
   ]
  },
  {
   "cell_type": "code",
   "execution_count": 31,
   "metadata": {},
   "outputs": [
    {
     "data": {
      "text/plain": [
       "8336352024.0"
      ]
     },
     "execution_count": 31,
     "metadata": {},
     "output_type": "execute_result"
    }
   ],
   "source": [
    "import numpy as np\n",
    "np.product(np.array(tree_counts, dtype=float)) # 8336352024.0"
   ]
  }
 ],
 "metadata": {
  "kernelspec": {
   "display_name": "Python 3.9.7 ('base')",
   "language": "python",
   "name": "python3"
  },
  "language_info": {
   "codemirror_mode": {
    "name": "ipython",
    "version": 3
   },
   "file_extension": ".py",
   "mimetype": "text/x-python",
   "name": "python",
   "nbconvert_exporter": "python",
   "pygments_lexer": "ipython3",
   "version": "3.9.7"
  },
  "orig_nbformat": 4,
  "vscode": {
   "interpreter": {
    "hash": "2015bda94f99312324182a6da2c0335845869d8cccbe791e6d71b6a750717475"
   }
  }
 },
 "nbformat": 4,
 "nbformat_minor": 2
}
