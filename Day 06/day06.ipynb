{
 "cells": [
  {
   "cell_type": "markdown",
   "metadata": {},
   "source": [
    "## Advent of Code 2020 - Day 06 ##\n",
    "____"
   ]
  },
  {
   "cell_type": "code",
   "execution_count": 1,
   "metadata": {},
   "outputs": [],
   "source": [
    "fh = open(\"data.txt\")\n",
    "contents = fh.read()\n",
    "answers = contents.splitlines()"
   ]
  },
  {
   "cell_type": "code",
   "execution_count": 6,
   "metadata": {},
   "outputs": [
    {
     "name": "stdout",
     "output_type": "stream",
     "text": [
      "Part 1 answer: 6735\n"
     ]
    }
   ],
   "source": [
    "yes = set()\n",
    "total = 0\n",
    "\n",
    "for ans in answers:\n",
    "    if ans == \"\":\n",
    "        total += len(yes)\n",
    "        yes = set()\n",
    "    \n",
    "    else:\n",
    "        yes = yes.union(set(ans))\n",
    "    \n",
    "total += len(yes) # last group\n",
    "\n",
    "print(f\"Part 1 answer: {total}\")"
   ]
  },
  {
   "cell_type": "code",
   "execution_count": 7,
   "metadata": {},
   "outputs": [
    {
     "name": "stdout",
     "output_type": "stream",
     "text": [
      "Part 2 answer: 3221\n"
     ]
    }
   ],
   "source": [
    "# Part 2\n",
    "groups = []\n",
    "group = []\n",
    "\n",
    "for ans in answers:\n",
    "    if ans == \"\":\n",
    "        groups.append(group)\n",
    "        group = []\n",
    "\n",
    "    else:\n",
    "        group.append(ans)\n",
    "\n",
    "groups.append(group) # last group.\n",
    "\n",
    "\n",
    "total = 0\n",
    "for g in groups:\n",
    "    common = set.intersection(*[set(x) for x in g])\n",
    "    total += len(common)\n",
    "\n",
    "print(f\"Part 2 answer: {total}\")\n"
   ]
  },
  {
   "cell_type": "code",
   "execution_count": null,
   "metadata": {},
   "outputs": [],
   "source": []
  }
 ],
 "metadata": {
  "kernelspec": {
   "display_name": "Python 3.9.7 ('base')",
   "language": "python",
   "name": "python3"
  },
  "language_info": {
   "codemirror_mode": {
    "name": "ipython",
    "version": 3
   },
   "file_extension": ".py",
   "mimetype": "text/x-python",
   "name": "python",
   "nbconvert_exporter": "python",
   "pygments_lexer": "ipython3",
   "version": "3.9.7"
  },
  "orig_nbformat": 4,
  "vscode": {
   "interpreter": {
    "hash": "2015bda94f99312324182a6da2c0335845869d8cccbe791e6d71b6a750717475"
   }
  }
 },
 "nbformat": 4,
 "nbformat_minor": 2
}
